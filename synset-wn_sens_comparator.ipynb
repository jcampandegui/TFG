{
 "cells": [
  {
   "cell_type": "code",
   "execution_count": 12,
   "metadata": {
    "scrolled": true
   },
   "outputs": [
    {
     "name": "stdout",
     "output_type": "stream",
     "text": [
      "Model loaded!\n",
      "-----------------------------------------------------------\n"
     ]
    }
   ],
   "source": [
    "import math\n",
    "import numpy as np\n",
    "from sklearn.metrics.pairwise import cosine_similarity\n",
    "import re\n",
    "\n",
    "'''LOAD MODEL'''\n",
    "file =  open('/home/josu/Desktop/synset_vectors.txt')\n",
    "model = {}\n",
    "for line in file:\n",
    "    split = line.split()\n",
    "    word = split[0]+\",\"+split[2]\n",
    "    embedding = np.array([float(val) for val in split[3:]])\n",
    "    model[word] = embedding\n",
    "    \n",
    "print(\"Model loaded!\")\n",
    "print(\"-----------------------------------------------------------\")"
   ]
  },
  {
   "cell_type": "code",
   "execution_count": 13,
   "metadata": {},
   "outputs": [
    {
     "name": "stdout",
     "output_type": "stream",
     "text": [
      "['00170340n,bank' '02787772n,bank' '04139859n,bank' '08420278n,bank'\n",
      " '09213434n,bank' '09213565n,bank' '09213828n,bank' '13356402n,bank']\n"
     ]
    }
   ],
   "source": [
    "'''SEARCH SENSE (SYNSET_VECTORS)'''\n",
    "selectWord = []\n",
    "for word in model:\n",
    "    if word.endswith(\"n,bank\"):\n",
    "        selectWord = np.append(selectWord, word)\n",
    "        \n",
    "print(selectWord)\n",
    "\n"
   ]
  },
  {
   "cell_type": "code",
   "execution_count": 14,
   "metadata": {},
   "outputs": [
    {
     "name": "stdout",
     "output_type": "stream",
     "text": [
      "Cosine similarity between  00170340n,bank  and  00170340n,bank  =  [[1.]]\n",
      "Cosine similarity between  00170340n,bank  and  02787772n,bank  =  [[0.01694399]]\n",
      "Cosine similarity between  00170340n,bank  and  04139859n,bank  =  [[-0.0837067]]\n",
      "Cosine similarity between  00170340n,bank  and  08420278n,bank  =  [[0.00933413]]\n",
      "Cosine similarity between  00170340n,bank  and  09213434n,bank  =  [[0.03772406]]\n",
      "Cosine similarity between  00170340n,bank  and  09213565n,bank  =  [[0.07106398]]\n",
      "Cosine similarity between  00170340n,bank  and  09213828n,bank  =  [[0.05518741]]\n",
      "Cosine similarity between  00170340n,bank  and  13356402n,bank  =  [[-0.11740244]]\n",
      "Cosine similarity between  02787772n,bank  and  02787772n,bank  =  [[1.]]\n",
      "Cosine similarity between  02787772n,bank  and  04139859n,bank  =  [[0.10722366]]\n",
      "Cosine similarity between  02787772n,bank  and  08420278n,bank  =  [[0.1099883]]\n",
      "Cosine similarity between  02787772n,bank  and  09213434n,bank  =  [[0.06094262]]\n",
      "Cosine similarity between  02787772n,bank  and  09213565n,bank  =  [[0.18028975]]\n",
      "Cosine similarity between  02787772n,bank  and  09213828n,bank  =  [[0.12290417]]\n",
      "Cosine similarity between  02787772n,bank  and  13356402n,bank  =  [[0.01346839]]\n",
      "Cosine similarity between  04139859n,bank  and  04139859n,bank  =  [[1.]]\n",
      "Cosine similarity between  04139859n,bank  and  08420278n,bank  =  [[0.19003575]]\n",
      "Cosine similarity between  04139859n,bank  and  09213434n,bank  =  [[0.11434147]]\n",
      "Cosine similarity between  04139859n,bank  and  09213565n,bank  =  [[0.0797275]]\n",
      "Cosine similarity between  04139859n,bank  and  09213828n,bank  =  [[0.06435166]]\n",
      "Cosine similarity between  04139859n,bank  and  13356402n,bank  =  [[0.08676765]]\n",
      "Cosine similarity between  08420278n,bank  and  08420278n,bank  =  [[1.]]\n",
      "Cosine similarity between  08420278n,bank  and  09213434n,bank  =  [[0.05961604]]\n",
      "Cosine similarity between  08420278n,bank  and  09213565n,bank  =  [[0.36260986]]\n",
      "Cosine similarity between  08420278n,bank  and  09213828n,bank  =  [[0.20277826]]\n",
      "Cosine similarity between  08420278n,bank  and  13356402n,bank  =  [[0.05518709]]\n",
      "Cosine similarity between  09213434n,bank  and  09213434n,bank  =  [[1.]]\n",
      "Cosine similarity between  09213434n,bank  and  09213565n,bank  =  [[0.21049817]]\n",
      "Cosine similarity between  09213434n,bank  and  09213828n,bank  =  [[0.07064399]]\n",
      "Cosine similarity between  09213434n,bank  and  13356402n,bank  =  [[0.02268547]]\n",
      "Cosine similarity between  09213565n,bank  and  09213565n,bank  =  [[1.]]\n",
      "Cosine similarity between  09213565n,bank  and  09213828n,bank  =  [[0.32280032]]\n",
      "Cosine similarity between  09213565n,bank  and  13356402n,bank  =  [[0.10897381]]\n",
      "Cosine similarity between  09213828n,bank  and  09213828n,bank  =  [[1.]]\n",
      "Cosine similarity between  09213828n,bank  and  13356402n,bank  =  [[0.06006476]]\n",
      "Cosine similarity between  13356402n,bank  and  13356402n,bank  =  [[1.]]\n"
     ]
    }
   ],
   "source": [
    "'''COMPARE SAME WORD SENSES'''\n",
    "for i in range(0,len(selectWord)):\n",
    "    for j in range(i,len(selectWord)):\n",
    "        print(\"Cosine similarity between \",selectWord[i],\" and \",selectWord[j],\" = \", cosine_similarity([model[selectWord[i]]],[model[selectWord[j]]]))"
   ]
  },
  {
   "cell_type": "code",
   "execution_count": 15,
   "metadata": {},
   "outputs": [
    {
     "name": "stdout",
     "output_type": "stream",
     "text": [
      "['00170340-n' '02787772-n' '04139859-n' '08420278-n' '09213434-n'\n",
      " '09213565-n' '09213828-n' '13356402-n']\n"
     ]
    }
   ],
   "source": [
    "'''SEARCH SENSE (WN_SYNSETS)'''\n",
    "wnSenses = []\n",
    "for sense in selectWord:\n",
    "    aux = sense.split(\"n\")\n",
    "    aux2 = aux[0] + \"-n\"\n",
    "    wnSenses = np.append(wnSenses, aux2)\n",
    "    \n",
    "print(wnSenses)"
   ]
  },
  {
   "cell_type": "code",
   "execution_count": 16,
   "metadata": {},
   "outputs": [
    {
     "name": "stdout",
     "output_type": "stream",
     "text": [
      "WordNet model loaded!\n",
      "-----------------------------------------------------------\n"
     ]
    }
   ],
   "source": [
    "wnFile =  open('/home/josu/Desktop/wn_synsets_200M_300.txt')\n",
    "wnModel = {}\n",
    "for line in wnFile:\n",
    "    split = line.split()\n",
    "    #print(split[0])\n",
    "    word = split[0]\n",
    "    #word = split[2]\n",
    "    #print(word)\n",
    "    embedding = np.array([float(val) for val in split[1:]])\n",
    "    wnModel[word] = embedding\n",
    "    \n",
    "print(\"WordNet model loaded!\")\n",
    "print(\"-----------------------------------------------------------\")"
   ]
  },
  {
   "cell_type": "code",
   "execution_count": 17,
   "metadata": {},
   "outputs": [
    {
     "name": "stdout",
     "output_type": "stream",
     "text": [
      "Cosine similarity between  00170340-n  and  00170340-n  =  [[1.]]\n",
      "Cosine similarity between  00170340-n  and  02787772-n  =  [[0.11948057]]\n",
      "Cosine similarity between  00170340-n  and  04139859-n  =  [[0.14596659]]\n",
      "Cosine similarity between  00170340-n  and  08420278-n  =  [[0.08236582]]\n",
      "Cosine similarity between  00170340-n  and  09213434-n  =  [[0.14018733]]\n",
      "Cosine similarity between  00170340-n  and  09213565-n  =  [[0.14451174]]\n",
      "Cosine similarity between  00170340-n  and  09213828-n  =  [[0.18782319]]\n",
      "Cosine similarity between  00170340-n  and  13356402-n  =  [[0.18514444]]\n",
      "Cosine similarity between  02787772-n  and  02787772-n  =  [[1.]]\n",
      "Cosine similarity between  02787772-n  and  04139859-n  =  [[0.24427676]]\n",
      "Cosine similarity between  02787772-n  and  08420278-n  =  [[0.47245469]]\n",
      "Cosine similarity between  02787772-n  and  09213434-n  =  [[0.12785424]]\n",
      "Cosine similarity between  02787772-n  and  09213565-n  =  [[0.13169102]]\n",
      "Cosine similarity between  02787772-n  and  09213828-n  =  [[0.14472814]]\n",
      "Cosine similarity between  02787772-n  and  13356402-n  =  [[0.34035223]]\n",
      "Cosine similarity between  04139859-n  and  04139859-n  =  [[1.]]\n",
      "Cosine similarity between  04139859-n  and  08420278-n  =  [[0.22448965]]\n",
      "Cosine similarity between  04139859-n  and  09213434-n  =  [[0.17314874]]\n",
      "Cosine similarity between  04139859-n  and  09213565-n  =  [[0.12463723]]\n",
      "Cosine similarity between  04139859-n  and  09213828-n  =  [[0.13558984]]\n",
      "Cosine similarity between  04139859-n  and  13356402-n  =  [[0.25116287]]\n",
      "Cosine similarity between  08420278-n  and  08420278-n  =  [[1.]]\n",
      "Cosine similarity between  08420278-n  and  09213434-n  =  [[0.12560888]]\n",
      "Cosine similarity between  08420278-n  and  09213565-n  =  [[0.05594287]]\n",
      "Cosine similarity between  08420278-n  and  09213828-n  =  [[0.16898977]]\n",
      "Cosine similarity between  08420278-n  and  13356402-n  =  [[0.4402115]]\n",
      "Cosine similarity between  09213434-n  and  09213434-n  =  [[1.]]\n",
      "Cosine similarity between  09213434-n  and  09213565-n  =  [[0.44196726]]\n",
      "Cosine similarity between  09213434-n  and  09213828-n  =  [[0.26617038]]\n",
      "Cosine similarity between  09213434-n  and  13356402-n  =  [[0.11745644]]\n",
      "Cosine similarity between  09213565-n  and  09213565-n  =  [[1.]]\n",
      "Cosine similarity between  09213565-n  and  09213828-n  =  [[0.32088962]]\n",
      "Cosine similarity between  09213565-n  and  13356402-n  =  [[0.11150189]]\n",
      "Cosine similarity between  09213828-n  and  09213828-n  =  [[1.]]\n",
      "Cosine similarity between  09213828-n  and  13356402-n  =  [[0.15673178]]\n",
      "Cosine similarity between  13356402-n  and  13356402-n  =  [[1.]]\n"
     ]
    }
   ],
   "source": [
    "'''COMPARE SAME WORD SENSES'''\n",
    "for i in range(0,len(wnSenses)):\n",
    "    for j in range(i,len(wnSenses)):\n",
    "        print(\"Cosine similarity between \",wnSenses[i],\" and \",wnSenses[j],\" = \", cosine_similarity([wnModel[wnSenses[i]]],[wnModel[wnSenses[j]]]))"
   ]
  },
  {
   "cell_type": "code",
   "execution_count": null,
   "metadata": {},
   "outputs": [],
   "source": []
  }
 ],
 "metadata": {
  "kernelspec": {
   "display_name": "Python 3",
   "language": "python",
   "name": "python3"
  },
  "language_info": {
   "codemirror_mode": {
    "name": "ipython",
    "version": 3
   },
   "file_extension": ".py",
   "mimetype": "text/x-python",
   "name": "python",
   "nbconvert_exporter": "python",
   "pygments_lexer": "ipython3",
   "version": "3.6.4"
  }
 },
 "nbformat": 4,
 "nbformat_minor": 2
}
