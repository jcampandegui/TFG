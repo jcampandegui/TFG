{
 "cells": [
  {
   "cell_type": "code",
   "execution_count": 1,
   "metadata": {},
   "outputs": [],
   "source": [
    "from operator import itemgetter\n",
    "\n",
    "\n",
    "def create_dict (filePath1, filePath2, outputPath):\n",
    "    file =  open('/home/josu/Downloads/monosemic.txt')\n",
    "    file2 =  open('/home/josu/Downloads/wnet30_dict.synset-word.txt')\n",
    "\n",
    "    palabras = []\n",
    "    for line in file:\n",
    "        line = line.rstrip('\\n')\n",
    "        palabras.append(line)\n",
    "\n",
    "    #print(palabras)\n",
    "    for word in file2:\n",
    "        to_write = \"\"\n",
    "        split = word.split()\n",
    "        palabra = split[1]\n",
    "        codigo = split[0]\n",
    "        if palabra in palabras:\n",
    "            to_write = codigo + \" \" + palabra+\"\\n\"\n",
    "            print(to_write)\n",
    "            with open('/home/josu/Desktop/dict_monosemico2.txt', 'a') as the_file:\n",
    "                the_file.write(to_write)\n",
    "                #the_file.write(word)\n",
    "                #print(split[0]+\" \"+palabra)\n",
    "    file.close()\n",
    "    file2.close()\n",
    "    print(\"Done\")\n",
    "    \n",
    "def invert_dict(filePath, outputPath):\n",
    "    file =  open(filePath)\n",
    "\n",
    "    for line in file:\n",
    "        split = line.split()\n",
    "        palabra = split[1]\n",
    "        codigo = split[0]\n",
    "        to_write = palabra + ' ' + codigo + '\\n'\n",
    "        with open(outputPath, 'a') as the_file:\n",
    "            the_file.write(to_write)\n",
    "\n",
    "    file.close()\n",
    "    print(\"Done\")\n",
    "    \n",
    "def mono_poly_dict(filePath, output, mode='mono'):\n",
    "    dictionary = open(filePath, 'r')\n",
    "    oldDict = []\n",
    "    for line in dictionary:\n",
    "        line = line.rstrip('\\n')\n",
    "        oldDict.append(line)\n",
    "    dictionary.close()\n",
    "    newDict = []\n",
    "    progress = 0\n",
    "    umbral = 10\n",
    "    goal = len(oldDict)\n",
    "    \n",
    "    if mode == 'mono':\n",
    "        for line in oldDict:\n",
    "            word = line.split()[1]\n",
    "            cont = 0\n",
    "            for line2 in oldDict:\n",
    "                word2 = line2.split()[1]\n",
    "                if word == word2:\n",
    "                    cont = cont + 1\n",
    "            if cont == 1:\n",
    "                newDict.append(line)\n",
    "            progress = progress + 1\n",
    "            percent = int(progress*100/goal)\n",
    "            if percent > umbral: \n",
    "                print(percent + '%')\n",
    "                umbral = umbral + 10\n",
    "   \n",
    "    elif mode == 'poly':\n",
    "        for line in oldDict:\n",
    "            word = line.split()[1]\n",
    "            cont = 0\n",
    "            for line2 in oldDict:\n",
    "                word2 = line2.split()[1]\n",
    "                if word == word2:\n",
    "                    cont = cont + 1\n",
    "            if cont > 1:\n",
    "                newDict.append(line)\n",
    "            progress = progress + 1\n",
    "            percent = int(progress*100/goal)\n",
    "            if percent >= umbral: \n",
    "                print(str(percent) + '%')\n",
    "                umbral = umbral + 10\n",
    "                \n",
    "    else:\n",
    "        print('Incorrect parameter. Options for mode parameter: [mono] [poly]')\n",
    "        return -1\n",
    "    \n",
    "    with open(output, 'a') as outFile:\n",
    "        for element in newDict:\n",
    "            outFile.write(element)\n",
    "            outFile.write('\\n')\n",
    "    \n",
    "    print('Result in ' + output)\n",
    "    \n",
    "\n",
    "def ranking_sorted(rPath, output):\n",
    "    rankF = open(rPath)\n",
    "    r = []\n",
    "    for line in rankF:\n",
    "        split = line.split()\n",
    "        word = split[0].split('%')[0]\n",
    "        rank = split[3]\n",
    "        r.append({'word':word, 'rank':rank})\n",
    "    rankF.close()\n",
    "    r = sorted(r, key=itemgetter('rank'), reverse=True)\n",
    "    with open(output, \"a\") as output:\n",
    "        for elem in r:\n",
    "            output.write(str(elem.get('word')) + ' ' + str(elem.get('rank')) + '\\n')\n",
    "    print('Done')\n",
    "    \n",
    "def get_words_by_rank(rPath, output, threshold):\n",
    "    rankF = open(rPath)\n",
    "    r = []\n",
    "    for line in rankF:\n",
    "        split = line.split()\n",
    "        word = split[0]\n",
    "        rank = split[1]\n",
    "        r.append({'word':word, 'rank':rank})\n",
    "    rankF.close()\n",
    "    dic = []\n",
    "    for elem in r:\n",
    "        if int(elem.get('rank')) >= int(threshold):\n",
    "            dic.append(elem)\n",
    "    with open(output, 'a') as out:\n",
    "        for e in dic:\n",
    "            out.write(str(e.get('word')) + ' ' + str(e.get('rank')) + '\\n')\n",
    "    print('Done')\n",
    "    \n",
    "def rank_to_dict(rPath, sDict, output):\n",
    "    rankF = open(rPath)\n",
    "    r = []\n",
    "    for line in rankF:\n",
    "        split = line.split()\n",
    "        word = split[0]\n",
    "        r.append(word)\n",
    "    rankF.close()\n",
    "    dictF = open(sDict)\n",
    "    dic = []\n",
    "    for line in dictF:\n",
    "        split = line.split()\n",
    "        code = split[0]\n",
    "        word = split[1]\n",
    "        dic.append({'code': code, 'word': word})\n",
    "    dictF.close()\n",
    "    res = []\n",
    "    for w in r:\n",
    "        for e in dic:\n",
    "            if str(e.get('word')) == str(w):\n",
    "                res.append({'code': e.get('code'), 'word': w})\n",
    "    with open(output, 'a') as out:\n",
    "        for e in res:\n",
    "            out.write(str(e.get('code')) + ' ' + str(e.get('word')) + '\\n')\n",
    "    print('Done')\n",
    "    \n",
    "def dict_bilingual(d1Path, d2Path, output):\n",
    "    d1 = open(d1Path)\n",
    "    r1 = []\n",
    "    for line in d1:\n",
    "        split = line.split()\n",
    "        r1.append({'comm':split[0], 'trad':split[1]})\n",
    "    d1.close()\n",
    "    d2 = open(d2Path)\n",
    "    r2 = []\n",
    "    for line in d2:\n",
    "        split = line.split()\n",
    "        r2.append({'trad':split[0], 'comm':split[1]})\n",
    "    d2.close()\n",
    "    res = []\n",
    "    for e1 in r1:\n",
    "        for e2 in r2:\n",
    "            if str(e1.get('comm')) == str(e2.get('comm')):\n",
    "                res.append({'code':e2.get('trad'), 'word':e1.get('trad')})\n",
    "    with open(output, 'a') as out:\n",
    "        for e in res:\n",
    "            out.write(str(e.get('code')) + ' ' + str(e.get('word')) + '\\n')\n",
    "    print('Done')"
   ]
  },
  {
   "cell_type": "code",
   "execution_count": 39,
   "metadata": {},
   "outputs": [
    {
     "name": "stdout",
     "output_type": "stream",
     "text": [
      "10%\n",
      "20%\n",
      "30%\n",
      "40%\n",
      "50%\n",
      "60%\n",
      "70%\n",
      "80%\n",
      "90%\n",
      "100%\n",
      "Result in /home/josu/Desktop/dict_polisemico.txt\n"
     ]
    }
   ],
   "source": [
    "mono_poly_dict('/home/josu/Downloads/wnet30_dict.synset-word.txt', '/home/josu/Desktop/dict_polisemico.txt', 'poly')"
   ]
  },
  {
   "cell_type": "code",
   "execution_count": null,
   "metadata": {},
   "outputs": [],
   "source": [
    "invert_dict('/home/josu/Desktop/vecmap-master/dict_monosemico2.txt', '/home/josu/Desktop/dict_monosemico_inv.txt')"
   ]
  },
  {
   "cell_type": "code",
   "execution_count": 16,
   "metadata": {},
   "outputs": [
    {
     "name": "stdout",
     "output_type": "stream",
     "text": [
      "Done\n"
     ]
    }
   ],
   "source": [
    "ranking_sorted('/home/josu/Desktop/sense_ranking.txt', '/home/josu/Desktop/ranking_sorted.txt')"
   ]
  },
  {
   "cell_type": "code",
   "execution_count": 32,
   "metadata": {},
   "outputs": [
    {
     "name": "stdout",
     "output_type": "stream",
     "text": [
      "Done\n"
     ]
    }
   ],
   "source": [
    "get_dict_by_rank('/home/josu/Desktop/ranking_sorted.txt', '/home/josu/Desktop/dict_rank_50.txt', 50)"
   ]
  },
  {
   "cell_type": "code",
   "execution_count": 33,
   "metadata": {},
   "outputs": [
    {
     "name": "stdout",
     "output_type": "stream",
     "text": [
      "Done\n"
     ]
    }
   ],
   "source": [
    "rank_to_dict('/home/josu/Desktop/dict_rank_50.txt', '/home/josu/Downloads/wnet30_dict.synset-word.txt', '/home/josu/Desktop/dict_50.txt')"
   ]
  },
  {
   "cell_type": "code",
   "execution_count": 2,
   "metadata": {},
   "outputs": [
    {
     "name": "stdout",
     "output_type": "stream",
     "text": [
      "Done\n"
     ]
    }
   ],
   "source": [
    "rank_to_dict('/home/josu/Desktop/dict_rank_5.txt', '/home/josu/Desktop/vecmap-master_2/dict_monosemico2.txt', '/home/josu/Desktop/dict_5_mono.txt')"
   ]
  },
  {
   "cell_type": "code",
   "execution_count": 3,
   "metadata": {},
   "outputs": [
    {
     "name": "stdout",
     "output_type": "stream",
     "text": [
      "Done\n"
     ]
    }
   ],
   "source": [
    "dict_bilingual('/home/josu/Desktop/en-es.train.txt', '/home/josu/Downloads/wnet30_dict.synset-word.txt', '/home/josu/Desktop/dict_syn_es.txt')"
   ]
  },
  {
   "cell_type": "code",
   "execution_count": null,
   "metadata": {},
   "outputs": [],
   "source": [
    "create_dict()"
   ]
  }
 ],
 "metadata": {
  "kernelspec": {
   "display_name": "Python 3",
   "language": "python",
   "name": "python3"
  },
  "language_info": {
   "codemirror_mode": {
    "name": "ipython",
    "version": 3
   },
   "file_extension": ".py",
   "mimetype": "text/x-python",
   "name": "python",
   "nbconvert_exporter": "python",
   "pygments_lexer": "ipython3",
   "version": "3.6.4"
  }
 },
 "nbformat": 4,
 "nbformat_minor": 2
}
