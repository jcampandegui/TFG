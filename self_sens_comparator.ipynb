{
 "cells": [
  {
   "cell_type": "code",
   "execution_count": 50,
   "metadata": {
    "scrolled": true
   },
   "outputs": [
    {
     "name": "stdout",
     "output_type": "stream",
     "text": [
      "Cosine similarity between  party_bn:00060834n  and  party_bn:00060836n  =  [[0.50589676]]\n",
      "Cosine similarity between  party_bn:00060834n  and  party_bn:00060837n  =  [[0.23251435]]\n",
      "Cosine similarity between  party_bn:00060834n  and  party_bn:00091457v  =  [[0.28844524]]\n",
      "Cosine similarity between  party_bn:00060834n  and  party_bn:03817447n  =  [[0.25360291]]\n",
      "Cosine similarity between  party_bn:00060834n  and  party_bn:02176710n  =  [[0.13443569]]\n",
      "Cosine similarity between  party_bn:00060834n  and  party_bn:03585495n  =  [[0.07853278]]\n",
      "Cosine similarity between  party_bn:00060834n  and  party_bn:00021290n  =  [[0.05812998]]\n",
      "Cosine similarity between  party_bn:00060834n  and  party_bn:00256941n  =  [[-0.03546948]]\n",
      "Cosine similarity between  party_bn:00060834n  and  party_bn:03635036n  =  [[0.10148446]]\n",
      "Cosine similarity between  party_bn:00060834n  and  party_bn:00803556n  =  [[0.07743783]]\n",
      "Cosine similarity between  party_bn:00060836n  and  party_bn:00060837n  =  [[0.20860053]]\n",
      "Cosine similarity between  party_bn:00060836n  and  party_bn:00091457v  =  [[0.24877884]]\n",
      "Cosine similarity between  party_bn:00060836n  and  party_bn:03817447n  =  [[0.19587943]]\n",
      "Cosine similarity between  party_bn:00060836n  and  party_bn:02176710n  =  [[0.06187976]]\n",
      "Cosine similarity between  party_bn:00060836n  and  party_bn:03585495n  =  [[0.12330322]]\n",
      "Cosine similarity between  party_bn:00060836n  and  party_bn:00021290n  =  [[0.08034137]]\n",
      "Cosine similarity between  party_bn:00060836n  and  party_bn:00256941n  =  [[-0.00765092]]\n",
      "Cosine similarity between  party_bn:00060836n  and  party_bn:03635036n  =  [[0.16712199]]\n",
      "Cosine similarity between  party_bn:00060836n  and  party_bn:00803556n  =  [[0.08743536]]\n",
      "Cosine similarity between  party_bn:00060837n  and  party_bn:00091457v  =  [[0.01357873]]\n",
      "Cosine similarity between  party_bn:00060837n  and  party_bn:03817447n  =  [[0.076249]]\n",
      "Cosine similarity between  party_bn:00060837n  and  party_bn:02176710n  =  [[0.18048921]]\n",
      "Cosine similarity between  party_bn:00060837n  and  party_bn:03585495n  =  [[0.04365342]]\n",
      "Cosine similarity between  party_bn:00060837n  and  party_bn:00021290n  =  [[0.00660539]]\n",
      "Cosine similarity between  party_bn:00060837n  and  party_bn:00256941n  =  [[0.02553945]]\n",
      "Cosine similarity between  party_bn:00060837n  and  party_bn:03635036n  =  [[0.16977459]]\n",
      "Cosine similarity between  party_bn:00060837n  and  party_bn:00803556n  =  [[0.04686855]]\n",
      "Cosine similarity between  party_bn:00091457v  and  party_bn:03817447n  =  [[0.11398323]]\n",
      "Cosine similarity between  party_bn:00091457v  and  party_bn:02176710n  =  [[0.02726071]]\n",
      "Cosine similarity between  party_bn:00091457v  and  party_bn:03585495n  =  [[0.07249321]]\n",
      "Cosine similarity between  party_bn:00091457v  and  party_bn:00021290n  =  [[0.16511486]]\n",
      "Cosine similarity between  party_bn:00091457v  and  party_bn:00256941n  =  [[-0.0128723]]\n",
      "Cosine similarity between  party_bn:00091457v  and  party_bn:03635036n  =  [[0.10704363]]\n",
      "Cosine similarity between  party_bn:00091457v  and  party_bn:00803556n  =  [[0.07388107]]\n",
      "Cosine similarity between  party_bn:03817447n  and  party_bn:02176710n  =  [[0.0074771]]\n",
      "Cosine similarity between  party_bn:03817447n  and  party_bn:03585495n  =  [[0.14090033]]\n",
      "Cosine similarity between  party_bn:03817447n  and  party_bn:00021290n  =  [[0.03597234]]\n",
      "Cosine similarity between  party_bn:03817447n  and  party_bn:00256941n  =  [[0.03271649]]\n",
      "Cosine similarity between  party_bn:03817447n  and  party_bn:03635036n  =  [[0.06793628]]\n",
      "Cosine similarity between  party_bn:03817447n  and  party_bn:00803556n  =  [[-0.02339826]]\n",
      "Cosine similarity between  party_bn:02176710n  and  party_bn:03585495n  =  [[-0.02600911]]\n",
      "Cosine similarity between  party_bn:02176710n  and  party_bn:00021290n  =  [[-0.02154475]]\n",
      "Cosine similarity between  party_bn:02176710n  and  party_bn:00256941n  =  [[0.15600841]]\n",
      "Cosine similarity between  party_bn:02176710n  and  party_bn:03635036n  =  [[0.13288675]]\n",
      "Cosine similarity between  party_bn:02176710n  and  party_bn:00803556n  =  [[0.32344206]]\n",
      "Cosine similarity between  party_bn:03585495n  and  party_bn:00021290n  =  [[-0.05597251]]\n",
      "Cosine similarity between  party_bn:03585495n  and  party_bn:00256941n  =  [[0.01827066]]\n",
      "Cosine similarity between  party_bn:03585495n  and  party_bn:03635036n  =  [[0.08116389]]\n",
      "Cosine similarity between  party_bn:03585495n  and  party_bn:00803556n  =  [[0.07553748]]\n",
      "Cosine similarity between  party_bn:00021290n  and  party_bn:00256941n  =  [[0.01075866]]\n",
      "Cosine similarity between  party_bn:00021290n  and  party_bn:03635036n  =  [[0.00797352]]\n",
      "Cosine similarity between  party_bn:00021290n  and  party_bn:00803556n  =  [[0.07805022]]\n",
      "Cosine similarity between  party_bn:00256941n  and  party_bn:03635036n  =  [[0.00160437]]\n",
      "Cosine similarity between  party_bn:00256941n  and  party_bn:00803556n  =  [[0.16201371]]\n",
      "Cosine similarity between  party_bn:03635036n  and  party_bn:00803556n  =  [[-0.00496753]]\n"
     ]
    }
   ],
   "source": [
    "import math\n",
    "import numpy as np\n",
    "from sklearn.metrics.pairwise import cosine_similarity\n",
    "\n",
    "with open('/home/josu/Desktop/party2.txt') as file:\n",
    "    content = file.readlines()\n",
    "\n",
    "for x in range(0,len(content)-2):\n",
    "    for y in range(x+1,len(content)-1):\n",
    "        vec1 = []\n",
    "        vec2 = []\n",
    "        line1 = content[x].split(' ')\n",
    "        line2 = content[y].split(' ')\n",
    "        \n",
    "        for i in range (1,len(line1)-1):\n",
    "            vec1 = np.append(vec1, float(line1[i]))\n",
    "            \n",
    "        for j in range (1,len(line2)-1):\n",
    "            vec2 = np.append(vec2, float(line2[j]))\n",
    "            \n",
    "        print(\"Cosine similarity between \" ,line1[0], \" and \" ,line2[0], \" = \" ,cosine_similarity([vec1], [vec2]))"
   ]
  }
 ],
 "metadata": {
  "kernelspec": {
   "display_name": "Python 3",
   "language": "python",
   "name": "python3"
  },
  "language_info": {
   "codemirror_mode": {
    "name": "ipython",
    "version": 3
   },
   "file_extension": ".py",
   "mimetype": "text/x-python",
   "name": "python",
   "nbconvert_exporter": "python",
   "pygments_lexer": "ipython3",
   "version": "3.6.4"
  }
 },
 "nbformat": 4,
 "nbformat_minor": 2
}
